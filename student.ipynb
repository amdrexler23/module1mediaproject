{
 "cells": [
  {
   "cell_type": "markdown",
   "metadata": {},
   "source": [
    "## Final Project Submission"
   ]
  },
  {
   "cell_type": "code",
   "execution_count": 3,
   "metadata": {},
   "outputs": [],
   "source": [
    "#import all the necessary modules\n",
    "from bs4 import BeautifulSoup\n",
    "import requests as rq\n",
    "import pandas as pd\n",
    "import numpy as np"
   ]
  },
  {
   "cell_type": "code",
   "execution_count": null,
   "metadata": {
    "scrolled": true
   },
   "outputs": [],
   "source": [
    "#Webscrape boxofficemojo for films' box office sales\n",
    "dataframes =[]\n",
    "#for loop to scrape the websites pages from year 2000-2019\n",
    "for i in range(2000,2020):\n",
    "    url = 'https://www.boxofficemojo.com/year/world/{}/'.format(i)\n",
    "    r = rq.get(url)\n",
    "    #create beautifulsoup object out of html\n",
    "    p = BeautifulSoup(r.text, 'html.parser')\n",
    "    #find all the movie titles on the page by tag and class\n",
    "    movie_titles = p.find_all('a', class_='a-link-normal')\n",
    "    titles = []\n",
    "    #append each movie title to a list\n",
    "    for movie in movie_titles:\n",
    "        titles.append(movie.text)\n",
    "    #remove extraneous lines from the list\n",
    "    domestic_titles=titles[17:-11]\n",
    "    #create dataframe of titles\n",
    "    titles_df = pd.DataFrame(domestic_titles)\n",
    "    #find all the movie sales on the page by tag and class\n",
    "    movie_gross = p.find_all('td', class_='a-text-right mojo-field-type-money')\n",
    "    worldwide_gross = []\n",
    "    #append each movie gross to a list\n",
    "    for movie in movie_gross:\n",
    "        worldwide_gross.append(movie.text)\n",
    "    #skip every two lines in the list (unwanted data)\n",
    "    domestic_gross = worldwide_gross[1::3]\n",
    "    #make dataframe of gross\n",
    "    dom_gross_df = pd.DataFrame(domestic_gross)\n",
    "    #add column with the year\n",
    "    dom_gross_df['Year']=i\n",
    "    #combine the two dataframes\n",
    "    tables = [titles_df.T, dom_gross_df]\n",
    "    result = pd.concat(tables, axis=1)\n",
    "    #append dfs to a list\n",
    "    dataframes.append(result)"
   ]
  },
  {
   "cell_type": "code",
   "execution_count": 22,
   "metadata": {
    "scrolled": false
   },
   "outputs": [],
   "source": [
    "#concatinate all the years dfs into one df\n",
    "df=pd.concat(dataframes)"
   ]
  },
  {
   "cell_type": "code",
   "execution_count": 23,
   "metadata": {
    "scrolled": true
   },
   "outputs": [],
   "source": [
    "#set column names\n",
    "df.columns = ['title', 'Domestic Gross', 'Year']"
   ]
  },
  {
   "cell_type": "code",
   "execution_count": 27,
   "metadata": {},
   "outputs": [],
   "source": [
    "df.reset_index(drop=True, inplace=True)"
   ]
  },
  {
   "cell_type": "code",
   "execution_count": 32,
   "metadata": {},
   "outputs": [],
   "source": [
    "#imported csv from partner with df of bechdel test data\n",
    "bech_df = pd.read_csv('module1mediaproject_export_dataframe.csv')"
   ]
  },
  {
   "cell_type": "code",
   "execution_count": 36,
   "metadata": {},
   "outputs": [],
   "source": [
    "#inner join box office sales df and bechdel df on column 'title'\n",
    "bech_gross_df = df.merge(bech_df, on=\"title\", how = 'inner')"
   ]
  },
  {
   "cell_type": "code",
   "execution_count": 38,
   "metadata": {
    "collapsed": true
   },
   "outputs": [
    {
     "data": {
      "text/plain": [
       "title             2409\n",
       "Domestic Gross    2452\n",
       "Year                20\n",
       "year                20\n",
       "rating               2\n",
       "id                2441\n",
       "imdbid            2439\n",
       "dtype: int64"
      ]
     },
     "execution_count": 38,
     "metadata": {},
     "output_type": "execute_result"
    }
   ],
   "source": [
    "bech_gross_df.nunique()"
   ]
  },
  {
   "cell_type": "code",
   "execution_count": 50,
   "metadata": {},
   "outputs": [],
   "source": [
    "#drop any duplicate movies\n",
    "bech_gross_df.drop_duplicates(subset=['title'], keep='first', inplace=True)"
   ]
  },
  {
   "cell_type": "code",
   "execution_count": 41,
   "metadata": {},
   "outputs": [
    {
     "data": {
      "text/plain": [
       "0"
      ]
     },
     "execution_count": 41,
     "metadata": {},
     "output_type": "execute_result"
    }
   ],
   "source": [
    "#check for any NaNs\n",
    "bech_gross_df['title'].isna().sum()"
   ]
  },
  {
   "cell_type": "code",
   "execution_count": 46,
   "metadata": {},
   "outputs": [
    {
     "data": {
      "text/plain": [
       "36"
      ]
     },
     "execution_count": 46,
     "metadata": {},
     "output_type": "execute_result"
    }
   ],
   "source": [
    "#check for any movies with gross of '-' meaning no input\n",
    "empty = 0\n",
    "for movie in bech_gross_df['Domestic Gross']:\n",
    "    if movie == '-':\n",
    "        empty+=1\n",
    "empty"
   ]
  },
  {
   "cell_type": "code",
   "execution_count": 52,
   "metadata": {},
   "outputs": [],
   "source": [
    "#remove rows with '-' as value\n",
    "df_clean1 = bech_gross_df[bech_gross_df['Domestic Gross'] != '-']"
   ]
  },
  {
   "cell_type": "code",
   "execution_count": 54,
   "metadata": {},
   "outputs": [],
   "source": [
    "df_clean1.reset_index(drop=True,inplace=True)"
   ]
  },
  {
   "cell_type": "code",
   "execution_count": 56,
   "metadata": {},
   "outputs": [],
   "source": [
    "#remove residual year column from imported df\n",
    "del df_clean1['year']"
   ]
  },
  {
   "cell_type": "code",
   "execution_count": 68,
   "metadata": {
    "collapsed": true
   },
   "outputs": [
    {
     "data": {
      "text/plain": [
       "count    2374.000000\n",
       "mean        0.593934\n",
       "std         0.491201\n",
       "min         0.000000\n",
       "25%         0.000000\n",
       "50%         1.000000\n",
       "75%         1.000000\n",
       "max         1.000000\n",
       "Name: rating, dtype: float64"
      ]
     },
     "execution_count": 68,
     "metadata": {},
     "output_type": "execute_result"
    }
   ],
   "source": [
    "df_clean1['rating'].describe()"
   ]
  },
  {
   "cell_type": "code",
   "execution_count": 59,
   "metadata": {},
   "outputs": [],
   "source": [
    "#import visualization module\n",
    "import matplotlib.pyplot as plt\n",
    "%matplotlib inline"
   ]
  },
  {
   "cell_type": "code",
   "execution_count": 162,
   "metadata": {},
   "outputs": [],
   "source": [
    "#exporting df to csv for partners use\n",
    "df_clean1.to_csv('df_clean_to_csv2.csv')"
   ]
  },
  {
   "cell_type": "code",
   "execution_count": 95,
   "metadata": {
    "collapsed": true
   },
   "outputs": [
    {
     "name": "stderr",
     "output_type": "stream",
     "text": [
      "/Users/brendonius/opt/anaconda3/lib/python3.7/site-packages/ipykernel_launcher.py:1: SettingWithCopyWarning: \n",
      "A value is trying to be set on a copy of a slice from a DataFrame.\n",
      "Try using .loc[row_indexer,col_indexer] = value instead\n",
      "\n",
      "See the caveats in the documentation: http://pandas.pydata.org/pandas-docs/stable/user_guide/indexing.html#returning-a-view-versus-a-copy\n",
      "  \"\"\"Entry point for launching an IPython kernel.\n"
     ]
    }
   ],
   "source": [
    "#cleaning gross values\n",
    "df_clean1['Domestic Gross'] = df_clean1['Domestic Gross'].map(lambda x: x.lstrip('$').replace(',',''))"
   ]
  },
  {
   "cell_type": "code",
   "execution_count": 103,
   "metadata": {
    "collapsed": true
   },
   "outputs": [
    {
     "name": "stderr",
     "output_type": "stream",
     "text": [
      "/Users/brendonius/opt/anaconda3/lib/python3.7/site-packages/ipykernel_launcher.py:1: SettingWithCopyWarning: \n",
      "A value is trying to be set on a copy of a slice from a DataFrame.\n",
      "Try using .loc[row_indexer,col_indexer] = value instead\n",
      "\n",
      "See the caveats in the documentation: http://pandas.pydata.org/pandas-docs/stable/user_guide/indexing.html#returning-a-view-versus-a-copy\n",
      "  \"\"\"Entry point for launching an IPython kernel.\n"
     ]
    }
   ],
   "source": [
    "#converting gross values from string to numeric\n",
    "df_clean1['Domestic Gross']= pd.to_numeric(df_clean1['Domestic Gross'])"
   ]
  },
  {
   "cell_type": "code",
   "execution_count": 105,
   "metadata": {},
   "outputs": [],
   "source": [
    "#df for movies that pass Bechdel test\n",
    "movie_pass=df_clean1[df_clean1['rating']==1]"
   ]
  },
  {
   "cell_type": "code",
   "execution_count": 106,
   "metadata": {
    "collapsed": true
   },
   "outputs": [
    {
     "data": {
      "text/html": [
       "<div>\n",
       "<style scoped>\n",
       "    .dataframe tbody tr th:only-of-type {\n",
       "        vertical-align: middle;\n",
       "    }\n",
       "\n",
       "    .dataframe tbody tr th {\n",
       "        vertical-align: top;\n",
       "    }\n",
       "\n",
       "    .dataframe thead th {\n",
       "        text-align: right;\n",
       "    }\n",
       "</style>\n",
       "<table border=\"1\" class=\"dataframe\">\n",
       "  <thead>\n",
       "    <tr style=\"text-align: right;\">\n",
       "      <th></th>\n",
       "      <th>title</th>\n",
       "      <th>Domestic Gross</th>\n",
       "      <th>Year</th>\n",
       "      <th>rating</th>\n",
       "      <th>id</th>\n",
       "      <th>imdbid</th>\n",
       "    </tr>\n",
       "  </thead>\n",
       "  <tbody>\n",
       "    <tr>\n",
       "      <td>4</td>\n",
       "      <td>Dinosaur</td>\n",
       "      <td>137748063</td>\n",
       "      <td>2000</td>\n",
       "      <td>1</td>\n",
       "      <td>7188</td>\n",
       "      <td>130623</td>\n",
       "    </tr>\n",
       "    <tr>\n",
       "      <td>5</td>\n",
       "      <td>How the Grinch Stole Christmas</td>\n",
       "      <td>260044825</td>\n",
       "      <td>2000</td>\n",
       "      <td>1</td>\n",
       "      <td>7928</td>\n",
       "      <td>170016</td>\n",
       "    </tr>\n",
       "    <tr>\n",
       "      <td>8</td>\n",
       "      <td>What Lies Beneath</td>\n",
       "      <td>155464351</td>\n",
       "      <td>2000</td>\n",
       "      <td>1</td>\n",
       "      <td>1071</td>\n",
       "      <td>161081</td>\n",
       "    </tr>\n",
       "    <tr>\n",
       "      <td>9</td>\n",
       "      <td>Scary Movie</td>\n",
       "      <td>157019771</td>\n",
       "      <td>2000</td>\n",
       "      <td>1</td>\n",
       "      <td>5544</td>\n",
       "      <td>175142</td>\n",
       "    </tr>\n",
       "    <tr>\n",
       "      <td>10</td>\n",
       "      <td>Erin Brockovich</td>\n",
       "      <td>125595205</td>\n",
       "      <td>2000</td>\n",
       "      <td>1</td>\n",
       "      <td>452</td>\n",
       "      <td>195685</td>\n",
       "    </tr>\n",
       "    <tr>\n",
       "      <td>...</td>\n",
       "      <td>...</td>\n",
       "      <td>...</td>\n",
       "      <td>...</td>\n",
       "      <td>...</td>\n",
       "      <td>...</td>\n",
       "      <td>...</td>\n",
       "    </tr>\n",
       "    <tr>\n",
       "      <td>2369</td>\n",
       "      <td>Sword of Trust</td>\n",
       "      <td>322421</td>\n",
       "      <td>2019</td>\n",
       "      <td>1</td>\n",
       "      <td>8805</td>\n",
       "      <td>8484012</td>\n",
       "    </tr>\n",
       "    <tr>\n",
       "      <td>2370</td>\n",
       "      <td>Her Smell</td>\n",
       "      <td>255599</td>\n",
       "      <td>2019</td>\n",
       "      <td>1</td>\n",
       "      <td>8940</td>\n",
       "      <td>7942742</td>\n",
       "    </tr>\n",
       "    <tr>\n",
       "      <td>2371</td>\n",
       "      <td>American Woman</td>\n",
       "      <td>236637</td>\n",
       "      <td>2019</td>\n",
       "      <td>1</td>\n",
       "      <td>8647</td>\n",
       "      <td>9109492</td>\n",
       "    </tr>\n",
       "    <tr>\n",
       "      <td>2372</td>\n",
       "      <td>Little Joe</td>\n",
       "      <td>23862</td>\n",
       "      <td>2019</td>\n",
       "      <td>1</td>\n",
       "      <td>8967</td>\n",
       "      <td>9204204</td>\n",
       "    </tr>\n",
       "    <tr>\n",
       "      <td>2373</td>\n",
       "      <td>Rafiki</td>\n",
       "      <td>137968</td>\n",
       "      <td>2019</td>\n",
       "      <td>1</td>\n",
       "      <td>8596</td>\n",
       "      <td>8286894</td>\n",
       "    </tr>\n",
       "  </tbody>\n",
       "</table>\n",
       "<p>1410 rows × 6 columns</p>\n",
       "</div>"
      ],
      "text/plain": [
       "                               title  Domestic Gross  Year  rating    id  \\\n",
       "4                           Dinosaur       137748063  2000       1  7188   \n",
       "5     How the Grinch Stole Christmas       260044825  2000       1  7928   \n",
       "8                  What Lies Beneath       155464351  2000       1  1071   \n",
       "9                        Scary Movie       157019771  2000       1  5544   \n",
       "10                   Erin Brockovich       125595205  2000       1   452   \n",
       "...                              ...             ...   ...     ...   ...   \n",
       "2369                  Sword of Trust          322421  2019       1  8805   \n",
       "2370                       Her Smell          255599  2019       1  8940   \n",
       "2371                  American Woman          236637  2019       1  8647   \n",
       "2372                      Little Joe           23862  2019       1  8967   \n",
       "2373                          Rafiki          137968  2019       1  8596   \n",
       "\n",
       "       imdbid  \n",
       "4      130623  \n",
       "5      170016  \n",
       "8      161081  \n",
       "9      175142  \n",
       "10     195685  \n",
       "...       ...  \n",
       "2369  8484012  \n",
       "2370  7942742  \n",
       "2371  9109492  \n",
       "2372  9204204  \n",
       "2373  8286894  \n",
       "\n",
       "[1410 rows x 6 columns]"
      ]
     },
     "execution_count": 106,
     "metadata": {},
     "output_type": "execute_result"
    }
   ],
   "source": [
    "movie_pass.median"
   ]
  },
  {
   "cell_type": "code",
   "execution_count": 107,
   "metadata": {
    "collapsed": true
   },
   "outputs": [
    {
     "data": {
      "text/plain": [
       "count    1.410000e+03\n",
       "mean     4.747980e+07\n",
       "std      8.474295e+07\n",
       "min      3.830000e+02\n",
       "25%      6.110460e+05\n",
       "50%      1.419602e+07\n",
       "75%      5.639969e+07\n",
       "max      8.583730e+08\n",
       "Name: Domestic Gross, dtype: float64"
      ]
     },
     "execution_count": 107,
     "metadata": {},
     "output_type": "execute_result"
    }
   ],
   "source": [
    "movie_pass['Domestic Gross'].describe()"
   ]
  },
  {
   "cell_type": "code",
   "execution_count": 108,
   "metadata": {},
   "outputs": [],
   "source": [
    "#df for movies that dont pass Bechdel test\n",
    "movie_nopass=df_clean1[df_clean1['rating']==0]"
   ]
  },
  {
   "cell_type": "code",
   "execution_count": 110,
   "metadata": {
    "collapsed": true
   },
   "outputs": [
    {
     "data": {
      "text/plain": [
       "count    9.640000e+02\n",
       "mean     4.954410e+07\n",
       "std      7.118637e+07\n",
       "min      1.810000e+03\n",
       "25%      1.117783e+06\n",
       "50%      2.275889e+07\n",
       "75%      6.723078e+07\n",
       "max      7.497661e+08\n",
       "Name: Domestic Gross, dtype: float64"
      ]
     },
     "execution_count": 110,
     "metadata": {},
     "output_type": "execute_result"
    }
   ],
   "source": [
    "movie_nopass['Domestic Gross'].describe()"
   ]
  },
  {
   "cell_type": "code",
   "execution_count": 252,
   "metadata": {},
   "outputs": [],
   "source": [
    "y2=movie_pass.groupby('Year')['Domestic Gross'].mean()"
   ]
  },
  {
   "cell_type": "code",
   "execution_count": 144,
   "metadata": {},
   "outputs": [],
   "source": [
    "y2.reset_index(drop=True, inplace=True)"
   ]
  },
  {
   "cell_type": "code",
   "execution_count": 145,
   "metadata": {
    "collapsed": true
   },
   "outputs": [
    {
     "data": {
      "text/plain": [
       "0     6.411823e+07\n",
       "1     3.232767e+07\n",
       "2     4.521641e+07\n",
       "3     4.006201e+07\n",
       "4     4.045108e+07\n",
       "5     3.682599e+07\n",
       "6     3.282521e+07\n",
       "7     4.400166e+07\n",
       "8     3.821812e+07\n",
       "9     4.066419e+07\n",
       "10    5.005714e+07\n",
       "11    3.873339e+07\n",
       "12    3.114154e+07\n",
       "13    3.975002e+07\n",
       "14    4.071165e+07\n",
       "15    5.809345e+07\n",
       "16    5.420238e+07\n",
       "17    7.150391e+07\n",
       "18    8.579211e+07\n",
       "19    8.968512e+07\n",
       "Name: Domestic Gross, dtype: float64"
      ]
     },
     "execution_count": 145,
     "metadata": {},
     "output_type": "execute_result"
    }
   ],
   "source": [
    "y2"
   ]
  },
  {
   "cell_type": "code",
   "execution_count": 167,
   "metadata": {},
   "outputs": [
    {
     "data": {
      "text/plain": [
       "<matplotlib.collections.PathCollection at 0x12d6fad50>"
      ]
     },
     "execution_count": 167,
     "metadata": {},
     "output_type": "execute_result"
    },
    {
     "data": {
      "image/png": "[encoded data removed]",
      "text/plain": [
       "<Figure size 432x288 with 1 Axes>"
      ]
     },
     "metadata": {
      "needs_background": "light"
     },
     "output_type": "display_data"
    }
   ],
   "source": [
    "plt.scatter(movie_pass['Year'].unique(), y2)"
   ]
  },
  {
   "cell_type": "code",
   "execution_count": 155,
   "metadata": {},
   "outputs": [],
   "source": [
    "y3=movie_nopass.groupby('Year')['Domestic Gross'].mean()\n",
    "y3.reset_index(drop=True, inplace=True)"
   ]
  },
  {
   "cell_type": "code",
   "execution_count": 166,
   "metadata": {},
   "outputs": [
    {
     "data": {
      "text/plain": [
       "<matplotlib.collections.PathCollection at 0x12d5de2d0>"
      ]
     },
     "execution_count": 166,
     "metadata": {},
     "output_type": "execute_result"
    },
    {
     "data": {
      "image/png": "[encoded data removed]",
      "text/plain": [
       "<Figure size 432x288 with 1 Axes>"
      ]
     },
     "metadata": {
      "needs_background": "light"
     },
     "output_type": "display_data"
    }
   ],
   "source": [
    "plt.scatter(movie_pass['Year'].unique(), y3)"
   ]
  },
  {
   "cell_type": "code",
   "execution_count": 172,
   "metadata": {},
   "outputs": [
    {
     "data": {
      "text/plain": [
       "Year\n",
       "2000    32\n",
       "2001    56\n",
       "2002    53\n",
       "2003    62\n",
       "2004    62\n",
       "2005    61\n",
       "2006    73\n",
       "2007    75\n",
       "2008    60\n",
       "2009    57\n",
       "2010    86\n",
       "2011    93\n",
       "2012    97\n",
       "2013    93\n",
       "2014    94\n",
       "2015    79\n",
       "2016    90\n",
       "2017    71\n",
       "2018    66\n",
       "2019    50\n",
       "Name: rating, dtype: int64"
      ]
     },
     "execution_count": 172,
     "metadata": {},
     "output_type": "execute_result"
    }
   ],
   "source": [
    "movie_pass.groupby('Year')['rating'].count()"
   ]
  },
  {
   "cell_type": "code",
   "execution_count": 173,
   "metadata": {
    "collapsed": true
   },
   "outputs": [
    {
     "data": {
      "text/plain": [
       "Year\n",
       "2000    30\n",
       "2001    35\n",
       "2002    52\n",
       "2003    39\n",
       "2004    36\n",
       "2005    51\n",
       "2006    46\n",
       "2007    46\n",
       "2008    59\n",
       "2009    65\n",
       "2010    57\n",
       "2011    73\n",
       "2012    55\n",
       "2013    59\n",
       "2014    64\n",
       "2015    63\n",
       "2016    47\n",
       "2017    36\n",
       "2018    32\n",
       "2019    19\n",
       "Name: rating, dtype: int64"
      ]
     },
     "execution_count": 173,
     "metadata": {},
     "output_type": "execute_result"
    }
   ],
   "source": [
    "movie_nopass.groupby('Year')['rating'].count()"
   ]
  },
  {
   "cell_type": "code",
   "execution_count": 198,
   "metadata": {
    "scrolled": true
   },
   "outputs": [
    {
     "data": {
      "text/plain": [
       "([<matplotlib.axis.XTick at 0x12e6b0150>,\n",
       "  <matplotlib.axis.XTick at 0x12e6a8a10>,\n",
       "  <matplotlib.axis.XTick at 0x12e6a8e10>,\n",
       "  <matplotlib.axis.XTick at 0x12e7a1e50>,\n",
       "  <matplotlib.axis.XTick at 0x12e7ad450>,\n",
       "  <matplotlib.axis.XTick at 0x12e7ada90>,\n",
       "  <matplotlib.axis.XTick at 0x12e7b4190>,\n",
       "  <matplotlib.axis.XTick at 0x12e7ad890>,\n",
       "  <matplotlib.axis.XTick at 0x12e7b47d0>,\n",
       "  <matplotlib.axis.XTick at 0x12e7b4e10>,\n",
       "  <matplotlib.axis.XTick at 0x12e7ba450>],\n",
       " <a list of 11 Text xticklabel objects>)"
      ]
     },
     "execution_count": 198,
     "metadata": {},
     "output_type": "execute_result"
    },
    {
     "data": {
      "image/png": "[encoded data removed]",
      "text/plain": [
       "<Figure size 432x288 with 1 Axes>"
      ]
     },
     "metadata": {
      "needs_background": "light"
     },
     "output_type": "display_data"
    }
   ],
   "source": [
    "#create bar graph of pass/no pass over past 19. years\n",
    "plt.bar(movie_pass['Year'].unique(), movie_pass.groupby('Year')['rating'].count())\n",
    "plt.bar(movie_pass['Year'].unique(), movie_nopass.groupby('Year')['rating'].count())\n",
    "xtic=[2000,2002,2004,2006,2008,2010,2012,2014,2016,2018,2020]\n",
    "plt.xticks(xtic)"
   ]
  },
  {
   "cell_type": "code",
   "execution_count": 253,
   "metadata": {
    "scrolled": true
   },
   "outputs": [
    {
     "data": {
      "image/png": "[encoded data removed]",
      "text/plain": [
       "<Figure size 1440x720 with 1 Axes>"
      ]
     },
     "metadata": {
      "needs_background": "dark"
     },
     "output_type": "display_data"
    }
   ],
   "source": [
    "#create figure and add subplot\n",
    "new_fig = plt.figure(figsize=(20,10))\n",
    "ax=new_fig.add_subplot(111)\n",
    "\n",
    "# setting width of bars\n",
    "barWidth = 0.35\n",
    " \n",
    "# setting height of bar\n",
    "passbar = movie_pass.groupby('Year')['Domestic Gross'].sum()\n",
    "nopassbar = movie_nopass.groupby('Year')['Domestic Gross'].sum()\n",
    " \n",
    "# Positioning bars on x axis\n",
    "r1 = np.arange(len(passbar))\n",
    "r2 = [x + barWidth for x in r1]\n",
    " \n",
    "# Make the plot\n",
    "ax.bar(r1, passbar, color='pink', width=barWidth, edgecolor='black', label='PASS')\n",
    "ax.bar(r2, nopassbar, color='lightblue', width=barWidth, edgecolor='black', label='FAIL')\n",
    " \n",
    "# Add xticks and yticks and label the axes\n",
    "plt.ylabel('Sum of U.S. Box Office Gross in Billions',fontsize= '20', fontweight='bold', color='white')\n",
    "plt.xlabel('Release Year', fontsize= '20', fontweight='bold', color='white')\n",
    "plt.xticks([w + barWidth for w in range(len(passbar))], ['2000', '2001', '2002', '2003', '2004','2005', '2006', '2007', '2008', '2009','2010', '2011', '2012', '2013', '2014','2015', '2016', '2017', '2018', '2019'],rotation=90, fontsize='15', color='white')\n",
    "plt.yticks(color='white')\n",
    "\n",
    "# Create legend & Show graphic\n",
    "plt.legend()\n",
    "plt.show()"
   ]
  },
  {
   "cell_type": "code",
   "execution_count": 289,
   "metadata": {},
   "outputs": [
    {
     "name": "stderr",
     "output_type": "stream",
     "text": [
      "/Users/brendonius/opt/anaconda3/lib/python3.7/site-packages/ipykernel_launcher.py:1: SettingWithCopyWarning: \n",
      "A value is trying to be set on a copy of a slice from a DataFrame\n",
      "\n",
      "See the caveats in the documentation: http://pandas.pydata.org/pandas-docs/stable/user_guide/indexing.html#returning-a-view-versus-a-copy\n",
      "  \"\"\"Entry point for launching an IPython kernel.\n"
     ]
    }
   ],
   "source": [
    "#sort movies from highest grossing to lowest\n",
    "movie_pass.sort_values(['Domestic Gross'], ascending=False, inplace=True)"
   ]
  },
  {
   "cell_type": "code",
   "execution_count": 343,
   "metadata": {},
   "outputs": [],
   "source": [
    "#create groupby object with the top ten grossers from each year\n",
    "df5 = movie_pass.groupby('Year')['Domestic Gross'].nlargest(10).reset_index(drop=True)"
   ]
  },
  {
   "cell_type": "code",
   "execution_count": 379,
   "metadata": {},
   "outputs": [],
   "source": [
    "#create a variable for each years top ten mean\n",
    "toptenmean00p = df5[0:10].mean()\n",
    "toptenmean01p = df5[10:20].mean()\n",
    "toptenmean02p = df5[20:30].mean()\n",
    "toptenmean03p = df5[30:40].mean()\n",
    "toptenmean04p = df5[40:50].mean()\n",
    "toptenmean05p = df5[50:60].mean()\n",
    "toptenmean06p = df5[60:70].mean()\n",
    "toptenmean07p = df5[70:80].mean()\n",
    "toptenmean08p = df5[80:90].mean()\n",
    "toptenmean09p = df5[90:100].mean()\n",
    "toptenmean10p = df5[100:110].mean()\n",
    "toptenmean11p = df5[110:120].mean()\n",
    "toptenmean12p = df5[120:130].mean()\n",
    "toptenmean13p = df5[130:140].mean()\n",
    "toptenmean14p = df5[140:150].mean()\n",
    "toptenmean15p = df5[150:160].mean()\n",
    "toptenmean16p = df5[160:170].mean()\n",
    "toptenmean17p = df5[170:180].mean()\n",
    "toptenmean18p = df5[180:190].mean()\n",
    "toptenmean19p = df5[190:200].mean()"
   ]
  },
  {
   "cell_type": "code",
   "execution_count": 386,
   "metadata": {},
   "outputs": [
    {
     "data": {
      "text/plain": [
       "137842809.7"
      ]
     },
     "execution_count": 386,
     "metadata": {},
     "output_type": "execute_result"
    }
   ],
   "source": [
    "toptenmean00p"
   ]
  },
  {
   "cell_type": "code",
   "execution_count": 387,
   "metadata": {},
   "outputs": [
    {
     "data": {
      "text/plain": [
       "145870630.6"
      ]
     },
     "execution_count": 387,
     "metadata": {},
     "output_type": "execute_result"
    }
   ],
   "source": [
    "toptenmean00n"
   ]
  },
  {
   "cell_type": "code",
   "execution_count": 360,
   "metadata": {},
   "outputs": [
    {
     "name": "stderr",
     "output_type": "stream",
     "text": [
      "/Users/brendonius/opt/anaconda3/lib/python3.7/site-packages/ipykernel_launcher.py:1: SettingWithCopyWarning: \n",
      "A value is trying to be set on a copy of a slice from a DataFrame\n",
      "\n",
      "See the caveats in the documentation: http://pandas.pydata.org/pandas-docs/stable/user_guide/indexing.html#returning-a-view-versus-a-copy\n",
      "  \"\"\"Entry point for launching an IPython kernel.\n"
     ]
    }
   ],
   "source": [
    "movie_nopass.sort_values(['Domestic Gross'], ascending=False, inplace=True)"
   ]
  },
  {
   "cell_type": "code",
   "execution_count": 378,
   "metadata": {},
   "outputs": [],
   "source": [
    "df6 = movie_nopass.groupby('Year')['Domestic Gross'].nlargest(10).reset_index(drop=True)"
   ]
  },
  {
   "cell_type": "code",
   "execution_count": 382,
   "metadata": {},
   "outputs": [],
   "source": [
    "toptenmean00n = df6[0:10].mean()\n",
    "toptenmean01n = df6[10:20].mean()\n",
    "toptenmean02n = df6[20:30].mean()\n",
    "toptenmean03n = df6[30:40].mean()\n",
    "toptenmean04n = df6[40:50].mean()\n",
    "toptenmean05n = df6[50:60].mean()\n",
    "toptenmean06n = df6[60:70].mean()\n",
    "toptenmean07n = df6[70:80].mean()\n",
    "toptenmean08n = df6[80:90].mean()\n",
    "toptenmean09n = df6[90:100].mean()\n",
    "toptenmean10n = df6[100:110].mean()\n",
    "toptenmean11n = df6[110:120].mean()\n",
    "toptenmean12n = df6[120:130].mean()\n",
    "toptenmean13n = df6[130:140].mean()\n",
    "toptenmean14n = df6[140:150].mean()\n",
    "toptenmean15n = df6[150:160].mean()\n",
    "toptenmean16n = df6[160:170].mean()\n",
    "toptenmean17n = df6[170:180].mean()\n",
    "toptenmean18n = df6[180:190].mean()\n",
    "toptenmean19n = df6[190:200].mean()"
   ]
  },
  {
   "cell_type": "code",
   "execution_count": 388,
   "metadata": {},
   "outputs": [],
   "source": [
    "top_n_mean=[toptenmean00n,toptenmean01n,toptenmean02n,toptenmean03n,toptenmean04n,toptenmean05n,toptenmean06n,toptenmean07n,\n",
    "toptenmean08n,toptenmean09n,toptenmean10n,toptenmean11n,toptenmean12n,toptenmean13n,toptenmean14n,toptenmean15n,toptenmean16n,\n",
    "            toptenmean17n,toptenmean18n,toptenmean19n]\n",
    "top_p_mean= [toptenmean00p,toptenmean01p,toptenmean02p,toptenmean03p,toptenmean04p,toptenmean05p,toptenmean06p,\n",
    "toptenmean07p,toptenmean08p,toptenmean09p,toptenmean10p,toptenmean11p,toptenmean12p,toptenmean13p,toptenmean14p,\n",
    "toptenmean15p,toptenmean16p,toptenmean17p,toptenmean18p,toptenmean19p]"
   ]
  },
  {
   "cell_type": "code",
   "execution_count": 392,
   "metadata": {},
   "outputs": [
    {
     "data": {
      "image/png": "[encoded data removed]",
      "text/plain": [
       "<Figure size 1440x720 with 1 Axes>"
      ]
     },
     "metadata": {
      "needs_background": "dark"
     },
     "output_type": "display_data"
    }
   ],
   "source": [
    "#create figure and add subplot\n",
    "new_fig2 = plt.figure(figsize=(20,10))\n",
    "ax2=new_fig2.add_subplot(111)\n",
    "\n",
    "# setting width of bars\n",
    "barWidth = 0.35\n",
    " \n",
    "# setting height of bar\n",
    "passbar = top_p_mean\n",
    "nopassbar = top_n_mean\n",
    " \n",
    "# Positioning bars on x axis\n",
    "r1 = np.arange(len(passbar))\n",
    "r2 = [x + barWidth for x in r1]\n",
    " \n",
    "# Make the plot\n",
    "ax2.bar(r1, passbar, color='pink', width=barWidth, edgecolor='black', label='PASS')\n",
    "ax2.bar(r2, nopassbar, color='lightblue', width=barWidth, edgecolor='black', label='FAIL')\n",
    " \n",
    "# Add xticks and yticks and label the axes\n",
    "plt.ylabel('Mean Sales in Millions',fontsize= '20', fontweight='bold', color='white')\n",
    "plt.xlabel('Release Year', fontsize= '20', fontweight='bold', color='white')\n",
    "plt.xticks([w + barWidth for w in range(len(passbar))], ['2000', '2001', '2002', '2003', '2004','2005', '2006', '2007', '2008', '2009','2010', '2011', '2012', '2013', '2014','2015', '2016', '2017', '2018', '2019'],rotation=90, fontsize='15', color='white')\n",
    "plt.yticks(color='white')\n",
    "\n",
    "# Create legend & Show graphic\n",
    "plt.legend()\n",
    "plt.show()"
   ]
  },
  {
   "cell_type": "code",
   "execution_count": null,
   "metadata": {},
   "outputs": [],
   "source": []
  }
 ],
 "metadata": {
  "kernelspec": {
   "display_name": "Python 3",
   "language": "python",
   "name": "python3"
  },
  "language_info": {
   "codemirror_mode": {
    "name": "ipython",
    "version": 3
   },
   "file_extension": ".py",
   "mimetype": "text/x-python",
   "name": "python",
   "nbconvert_exporter": "python",
   "pygments_lexer": "ipython3",
   "version": "3.7.4"
  }
 },
 "nbformat": 4,
 "nbformat_minor": 2
}
