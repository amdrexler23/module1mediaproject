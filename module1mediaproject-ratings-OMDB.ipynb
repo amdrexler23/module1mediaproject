{
 "cells": [
  {
   "cell_type": "markdown",
   "metadata": {},
   "source": [
    "## Final Project Submission"
   ]
  },
  {
   "cell_type": "code",
   "execution_count": 1,
   "metadata": {},
   "outputs": [],
   "source": [
    "# Your code here - remember to use markdown cells for comments as well!\n",
    "import requests\n",
    "import json"
   ]
  },
  {
   "cell_type": "code",
   "execution_count": 32,
   "metadata": {},
   "outputs": [],
   "source": [
    "response = requests.get('http://www.omdbapi.com/?i=tt8579674&apikey=18d87115')"
   ]
  },
  {
   "cell_type": "code",
   "execution_count": 33,
   "metadata": {},
   "outputs": [
    {
     "name": "stdout",
     "output_type": "stream",
     "text": [
      "200\n"
     ]
    }
   ],
   "source": [
    "print(response.status_code) #status code 200 means \"Everything went okay, and the result has been returned (if any).\""
   ]
  },
  {
   "cell_type": "code",
   "execution_count": 34,
   "metadata": {},
   "outputs": [
    {
     "name": "stdout",
     "output_type": "stream",
     "text": [
      "{\n",
      "    \"Actors\": \"Dean-Charles Chapman, George MacKay, Daniel Mays, Colin Firth\",\n",
      "    \"Awards\": \"Won 3 Oscars. Another 103 wins & 152 nominations.\",\n",
      "    \"BoxOffice\": \"N/A\",\n",
      "    \"Country\": \"USA, UK, India, Spain, Canada\",\n",
      "    \"DVD\": \"10 Mar 2020\",\n",
      "    \"Director\": \"Sam Mendes\",\n",
      "    \"Genre\": \"Drama, War\",\n",
      "    \"Language\": \"English, French, German\",\n",
      "    \"Metascore\": \"78\",\n",
      "    \"Plot\": \"April 6th, 1917. As a regiment assembles to wage war deep in enemy territory, two soldiers are assigned to race against time and deliver a message that will stop 1,600 men from walking straight into a deadly trap.\",\n",
      "    \"Poster\": \"https://m.media-amazon.com/images/M/MV5BOTdmNTFjNDEtNzg0My00ZjkxLTg1ZDAtZTdkMDc2ZmFiNWQ1XkEyXkFqcGdeQXVyNTAzNzgwNTg@._V1_SX300.jpg\",\n",
      "    \"Production\": \"Universal Pictures\",\n",
      "    \"Rated\": \"R\",\n",
      "    \"Ratings\": [\n",
      "        {\n",
      "            \"Source\": \"Internet Movie Database\",\n",
      "            \"Value\": \"8.5/10\"\n",
      "        },\n",
      "        {\n",
      "            \"Source\": \"Rotten Tomatoes\",\n",
      "            \"Value\": \"89%\"\n",
      "        },\n",
      "        {\n",
      "            \"Source\": \"Metacritic\",\n",
      "            \"Value\": \"78/100\"\n",
      "        }\n",
      "    ],\n",
      "    \"Released\": \"10 Jan 2020\",\n",
      "    \"Response\": \"True\",\n",
      "    \"Runtime\": \"119 min\",\n",
      "    \"Title\": \"1917\",\n",
      "    \"Type\": \"movie\",\n",
      "    \"Website\": \"N/A\",\n",
      "    \"Writer\": \"Sam Mendes, Krysty Wilson-Cairns\",\n",
      "    \"Year\": \"2019\",\n",
      "    \"imdbID\": \"tt8579674\",\n",
      "    \"imdbRating\": \"8.5\",\n",
      "    \"imdbVotes\": \"164,576\"\n",
      "}\n"
     ]
    }
   ],
   "source": [
    "def jprint(obj):\n",
    "    # create a formatted string of the Python JSON object\n",
    "    text = json.dumps(obj, sort_keys=True, indent=4)\n",
    "    print(text)\n",
    "\n",
    "jprint(response.json())"
   ]
  }
 ],
 "metadata": {
  "kernelspec": {
   "display_name": "Python 3",
   "language": "python",
   "name": "python3"
  },
  "language_info": {
   "codemirror_mode": {
    "name": "ipython",
    "version": 3
   },
   "file_extension": ".py",
   "mimetype": "text/x-python",
   "name": "python",
   "nbconvert_exporter": "python",
   "pygments_lexer": "ipython3",
   "version": "3.7.4"
  }
 },
 "nbformat": 4,
 "nbformat_minor": 2
}
